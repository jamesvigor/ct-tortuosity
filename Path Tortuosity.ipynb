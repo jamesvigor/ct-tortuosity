{
 "cells": [
  {
   "cell_type": "markdown",
   "metadata": {},
   "source": [
    "# Determining the Path Tortuosity"
   ]
  },
  {
   "cell_type": "markdown",
   "metadata": {},
   "source": [
    "The tortuosity of a path is a descriptor of how twisted the path is - how many turns it has and how restricted those are, or if the curve is disconnected. This outputs an arbitrary positive value quantifying the tortuosity, where close to zero is free space and higher values describe a medium with closed and restricted paths. <p> To do this, we will use the `pytrax` python module https://doi.org/10.1016/j.softx.2019.100277, https://github.com/PMEAL/pytrax in conjunction with some of the typical ancillary data analysis components. <p>\n",
    "In this example, we neeed `matplotlib` for visualisation, `numpy` for mumerical analysis, `curve_fit` from `scipy.optimize` to determine the gradient of mean squared displacement with time step, `pytrax` as described above, and `glob` for filesystem operations. <p>\n",
    "Also set some threshold values for the volumetric phases observable in our imagery..."
   ]
  },
  {
   "cell_type": "code",
   "execution_count": 1,
   "metadata": {},
   "outputs": [],
   "source": [
    "import numpy as np\n",
    "import nrrd as nrrd\n",
    "from scipy.optimize import curve_fit\n",
    "import pytrax as pt\n",
    "import glob\n",
    "\n",
    "por_lower    = 18504\n",
    "precip_lower = 29524"
   ]
  },
  {
   "cell_type": "markdown",
   "metadata": {},
   "source": [
    "Define a function to \"configure\" an image. Take the raw image path on disk, load to an array using `nrrd.read()` and then run logical array operations to return a thresholded image representing the geometry defined by the threshold values."
   ]
  },
  {
   "cell_type": "code",
   "execution_count": 2,
   "metadata": {},
   "outputs": [],
   "source": [
    "def conf_image(raw_image, por_lower=por_lower, precip_lower=precip_lower):\n",
    "    image  = nrrd.read(raw_image)[0]                                        # Read the image file from disk\n",
    "    porosity    = image < por_lower                                         # Segment the devoid porosity\n",
    "    precipitate = np.logical_and(image < precip_lower, image > por_lower)   # Segment precipitate by threshold\n",
    "    total       = image < precip_lower                                      # Segment everything by threshold\n",
    "    return porosity, precipitate, total                                     # Return three segmented images"
   ]
  },
  {
   "cell_type": "markdown",
   "metadata": {},
   "source": [
    "Define a second function to calculate the tau of an image. Create a `RandomWalk` object using the image passed to the function as `processed_image` with the number of time steps defined as `nt`, the number of walkers defined as `nw`, the start position defined as the same `True` or randomised `False` and a stride value. `num_proc` is self explanatory.<p>\n",
    "Run the random walk operation with the previously provided parameters, and calculate the mean squared displacement `rw.calc_msd()`. Fit the values to a linear function $y = mx + c$, determine $m$, and the inverse of this is the tortuosity. Return the tortuosity. <p>\n",
    "    \n",
    "Also set some default parameters for the random walk. This ensures we use the same values every time, and keeps the code tidy. Set 20,000 walkers with 10,000 time points, distributed randomly throughout the structure, a step value of 1 and run this on 4 cores."
   ]
  },
  {
   "cell_type": "code",
   "execution_count": 3,
   "metadata": {},
   "outputs": [],
   "source": [
    "def calc_tau(processed_image, nt=1e4, nw=20000, same_start=False, stride=1, num_proc=4):\n",
    "    rw = pt.RandomWalk(processed_image)\n",
    "    rw.run(nt=nt, nw=nw, same_start=same_start, stride=stride, num_proc=num_proc)\n",
    "    rw.calc_msd()\n",
    "    y = rw.msd\n",
    "    x = np.linspace(0, rw.nt, len(y))\n",
    "    A = np.vstack([x, np.ones(len(x))]).T\n",
    "    a, res, _, _ = np.linalg.lstsq(A, y, rcond=-1)\n",
    "    return 1 / a[0]"
   ]
  },
  {
   "cell_type": "markdown",
   "metadata": {},
   "source": [
    "Repeat scans are stored in folders `Raw Data/PCScan4_R1 ... R2 ... R3 ... etc`. Read the name of each folder into disk, and sort them numerically."
   ]
  },
  {
   "cell_type": "code",
   "execution_count": 4,
   "metadata": {},
   "outputs": [],
   "source": [
    "repeats = sorted(glob.glob(\"../In-situ CT/100PC_Ins/Raw Data/PCScan4_R*\"))[:-2]"
   ]
  },
  {
   "cell_type": "markdown",
   "metadata": {},
   "source": [
    "The pre-determined times at which we want calculations are provided in the `times` array in the following cell. We need precipitate tortuosity `precip_tau`, porosity tortuosity `por_tau`, and total tortuosity `tot_tau` values at each point."
   ]
  },
  {
   "cell_type": "code",
   "execution_count": 5,
   "metadata": {},
   "outputs": [],
   "source": [
    "times = np.array([530, 600, 1920, 2000, 3000, 3140, 4680, 5400, 5780, \n",
    "                  15360, 15540, 22440, 26040, 29640, 31440, 33240, \n",
    "                  35040, 36840, 40440, 44040, 47731, 49611])\n",
    "\n",
    "precip_tau = np.zeros((len(times), len(repeats)))\n",
    "por_tau    = np.zeros((len(times), len(repeats)))\n",
    "tot_tau    = np.zeros((len(times), len(repeats)))"
   ]
  },
  {
   "cell_type": "markdown",
   "metadata": {},
   "source": [
    "Loop through the repeats, and then through the time of each scan we want for our results, determine the tortuosity of each volumetric phase, and write this to the array(s) defined above. Print output back to the user."
   ]
  },
  {
   "cell_type": "code",
   "execution_count": 6,
   "metadata": {},
   "outputs": [
    {
     "name": "stdout",
     "output_type": "stream",
     "text": [
      "Repeat 1 of 4...\n",
      "t = 530, Por tau = 3.591 Prec tau = 1.774 Tot tau = 1.355\n",
      "t = 600, Por tau = 1.962 Prec tau = 2.275 Tot tau = 1.265\n",
      "t = 1920, Por tau = 2.478 Prec tau = 1.909 Tot tau = 1.278\n",
      "t = 2000, Por tau = 2.141 Prec tau = 2.057 Tot tau = 1.248\n",
      "t = 3000, Por tau = 2.497 Prec tau = 1.919 Tot tau = 1.286\n",
      "t = 3140, Por tau = 2.511 Prec tau = 1.923 Tot tau = 1.287\n",
      "t = 4680, Por tau = 6.881 Prec tau = 1.835 Tot tau = 1.666\n",
      "t = 5400, Por tau = 8.154 Prec tau = 2.018 Tot tau = 1.856\n",
      "t = 5780, Por tau = 5.907 Prec tau = 1.902 Tot tau = 1.653\n",
      "t = 15360, Por tau = 4.764 Prec tau = 1.81 Tot tau = 1.491\n",
      "t = 15540, Por tau = 5.605 Prec tau = 1.901 Tot tau = 1.603\n",
      "t = 22440, Por tau = 9.39 Prec tau = 2.196 Tot tau = 1.96\n",
      "t = 26040, Por tau = 8.666 Prec tau = 2.122 Tot tau = 1.912\n",
      "t = 29640, Por tau = 7.802 Prec tau = 2.145 Tot tau = 1.893\n",
      "t = 31440, Por tau = 8.119 Prec tau = 2.166 Tot tau = 1.913\n",
      "t = 33240, Por tau = 7.527 Prec tau = 2.083 Tot tau = 1.849\n",
      "t = 35040, Por tau = 7.991 Prec tau = 2.121 Tot tau = 1.868\n",
      "t = 36840, Por tau = 6.93 Prec tau = 2.053 Tot tau = 1.789\n",
      "t = 40440, Por tau = 5.655 Prec tau = 1.801 Tot tau = 1.567\n",
      "t = 44040, Por tau = 3.63 Prec tau = 1.785 Tot tau = 1.366\n",
      "t = 47731, Por tau = 5.93 Prec tau = 1.826 Tot tau = 1.616\n",
      "t = 49611, Por tau = 5.033 Prec tau = 1.834 Tot tau = 1.547\n",
      "\n",
      "Repeat 2 of 4...\n",
      "t = 530, Por tau = 2.468 Prec tau = 2.056 Tot tau = 1.35\n",
      "t = 600, Por tau = 1.794 Prec tau = 2.717 Tot tau = 1.321\n",
      "t = 1920, Por tau = 3.019 Prec tau = 2.138 Tot tau = 1.495\n",
      "t = 2000, Por tau = 2.322 Prec tau = 2.225 Tot tau = 1.385\n",
      "t = 3000, Por tau = 2.58 Prec tau = 2.155 Tot tau = 1.416\n",
      "t = 3140, Por tau = 2.426 Prec tau = 2.13 Tot tau = 1.399\n",
      "t = 4680, Por tau = 4.562 Prec tau = 2.144 Tot tau = 1.757\n",
      "t = 5400, Por tau = 5.966 Prec tau = 2.492 Tot tau = 2.149\n",
      "t = 5780, Por tau = 4.948 Prec tau = 2.162 Tot tau = 1.724\n",
      "t = 15360, Por tau = 4.881 Prec tau = 2.042 Tot tau = 1.66\n",
      "t = 15540, Por tau = 5.508 Prec tau = 2.166 Tot tau = 1.803\n",
      "t = 22440, Por tau = 5.509 Prec tau = 2.225 Tot tau = 1.821\n",
      "t = 26040, Por tau = 6.574 Prec tau = 2.29 Tot tau = 1.95\n",
      "t = 29640, Por tau = 6.681 Prec tau = 2.218 Tot tau = 1.846\n",
      "t = 31440, Por tau = 6.44 Prec tau = 2.218 Tot tau = 1.856\n",
      "t = 33240, Por tau = 6.637 Prec tau = 2.232 Tot tau = 1.89\n",
      "t = 35040, Por tau = 5.396 Prec tau = 2.209 Tot tau = 1.785\n",
      "t = 36840, Por tau = 6.119 Prec tau = 2.224 Tot tau = 1.854\n",
      "t = 40440, Por tau = 6.98 Prec tau = 1.984 Tot tau = 1.722\n",
      "t = 44040, Por tau = 2.436 Prec tau = 2.05 Tot tau = 1.351\n",
      "t = 47731, Por tau = 7.654 Prec tau = 1.973 Tot tau = 1.727\n",
      "t = 49611, Por tau = 7.539 Prec tau = 1.998 Tot tau = 1.735\n",
      "\n",
      "Repeat 3 of 4...\n",
      "t = 530, Por tau = 1.846 Prec tau = 2.388 Tot tau = 1.216\n",
      "t = 600, Por tau = 1.524 Prec tau = 3.046 Tot tau = 1.161\n",
      "t = 1920, Por tau = 2.514 Prec tau = 2.207 Tot tau = 1.371\n",
      "t = 2000, Por tau = 2.784 Prec tau = 2.048 Tot tau = 1.398\n",
      "t = 3000, Por tau = 2.546 Prec tau = 2.237 Tot tau = 1.398\n",
      "t = 3140, Por tau = 2.295 Prec tau = 2.26 Tot tau = 1.351\n",
      "t = 4680, Por tau = 2.863 Prec tau = 2.143 Tot tau = 1.437\n",
      "t = 5400, Por tau = 3.027 Prec tau = 2.145 Tot tau = 1.505\n",
      "t = 5780, Por tau = 9.947 Prec tau = 2.744 Tot tau = 2.453\n",
      "t = 15360, Por tau = 4.015 Prec tau = 2.199 Tot tau = 1.719\n",
      "t = 15540, Por tau = 5.373 Prec tau = 2.375 Tot tau = 1.935\n",
      "t = 22440, Por tau = 12.231 Prec tau = 3.046 Tot tau = 2.759\n",
      "t = 26040, Por tau = 8.938 Prec tau = 2.654 Tot tau = 2.33\n",
      "t = 29640, Por tau = 12.183 Prec tau = 2.915 Tot tau = 2.684\n",
      "t = 31440, Por tau = 13.399 Prec tau = 3.173 Tot tau = 2.894\n",
      "t = 33240, Por tau = 13.065 Prec tau = 3.023 Tot tau = 2.718\n",
      "t = 35040, Por tau = 11.603 Prec tau = 2.932 Tot tau = 2.668\n",
      "t = 36840, Por tau = 10.703 Prec tau = 3.027 Tot tau = 2.672\n",
      "t = 40440, Por tau = 4.325 Prec tau = 2.156 Tot tau = 1.774\n",
      "t = 44040, Por tau = 1.834 Prec tau = 2.402 Tot tau = 1.213\n",
      "t = 47731, Por tau = 4.28 Prec tau = 2.128 Tot tau = 1.727\n",
      "t = 49611, Por tau = 3.624 Prec tau = 2.162 Tot tau = 1.709\n",
      "\n",
      "Repeat 4 of 4...\n",
      "t = 530, Por tau = 1.833 Prec tau = 2.356 Tot tau = 1.23\n",
      "t = 600, Por tau = 1.51 Prec tau = 3.046 Tot tau = 1.161\n",
      "t = 1920, Por tau = 2.508 Prec tau = 2.173 Tot tau = 1.37\n",
      "t = 2000, Por tau = 2.796 Prec tau = 2.03 Tot tau = 1.391\n",
      "t = 3000, Por tau = 2.564 Prec tau = 2.222 Tot tau = 1.396\n",
      "t = 3140, Por tau = 2.292 Prec tau = 2.226 Tot tau = 1.32\n",
      "t = 4680, Por tau = 2.865 Prec tau = 2.099 Tot tau = 1.434\n",
      "t = 5400, Por tau = 3.012 Prec tau = 2.129 Tot tau = 1.497\n",
      "t = 5780, Por tau = 9.785 Prec tau = 2.701 Tot tau = 2.439\n",
      "t = 15360, Por tau = 3.999 Prec tau = 2.205 Tot tau = 1.744\n",
      "t = 15540, Por tau = 5.396 Prec tau = 2.363 Tot tau = 1.947\n",
      "t = 22440, Por tau = 12.666 Prec tau = 3.062 Tot tau = 2.797\n",
      "t = 26040, Por tau = 8.978 Prec tau = 2.626 Tot tau = 2.307\n",
      "t = 29640, Por tau = 12.605 Prec tau = 2.908 Tot tau = 2.653\n",
      "t = 31440, Por tau = 13.939 Prec tau = 3.17 Tot tau = 2.904\n",
      "t = 33240, Por tau = 12.976 Prec tau = 3.006 Tot tau = 2.769\n",
      "t = 35040, Por tau = 11.304 Prec tau = 2.967 Tot tau = 2.646\n",
      "t = 36840, Por tau = 10.693 Prec tau = 3.049 Tot tau = 2.714\n",
      "t = 40440, Por tau = 4.425 Prec tau = 2.145 Tot tau = 1.765\n",
      "t = 44040, Por tau = 1.87 Prec tau = 2.399 Tot tau = 1.203\n",
      "t = 47731, Por tau = 4.289 Prec tau = 2.101 Tot tau = 1.742\n",
      "t = 49611, Por tau = 3.606 Prec tau = 2.15 Tot tau = 1.678\n",
      "\n"
     ]
    }
   ],
   "source": [
    "for ii in range(0, len(repeats)):\n",
    "    print(\"Repeat {} of {}...\".format(ii+1, len(repeats)))\n",
    "    for jj in range(0, len(times)):\n",
    "        \n",
    "        images = \"{}\\PCScan4_t{}.nrrd\".format(repeats[ii], times[jj])\n",
    "        porosity, precipitate, total = conf_image(images, por_lower, precip_lower)\n",
    "        \n",
    "        por_tau[jj,ii]    = calc_tau(porosity)\n",
    "        precip_tau[jj,ii] = calc_tau(precipitate)\n",
    "        tot_tau[jj,ii]    = calc_tau(total)\n",
    "        \n",
    "        print(\"t = {}, Por tau = {} Prec tau = {} Tot tau = {}\".format(times[jj],\n",
    "                                                                       np.round(por_tau[jj,ii],    3), \n",
    "                                                                       np.round(precip_tau[jj,ii], 3), \n",
    "                                                                       np.round(tot_tau[jj,ii],    3)))\n",
    "    print(\"\")"
   ]
  }
 ],
 "metadata": {
  "kernelspec": {
   "display_name": "Python 3",
   "language": "python",
   "name": "python3"
  },
  "language_info": {
   "codemirror_mode": {
    "name": "ipython",
    "version": 3
   },
   "file_extension": ".py",
   "mimetype": "text/x-python",
   "name": "python",
   "nbconvert_exporter": "python",
   "pygments_lexer": "ipython3",
   "version": "3.7.6"
  }
 },
 "nbformat": 4,
 "nbformat_minor": 4
}
